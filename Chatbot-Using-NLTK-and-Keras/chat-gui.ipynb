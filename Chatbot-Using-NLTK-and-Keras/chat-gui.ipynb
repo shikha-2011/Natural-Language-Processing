{
 "nbformat": 4,
 "nbformat_minor": 2,
 "metadata": {
  "language_info": {
   "name": "python",
   "codemirror_mode": {
    "name": "ipython",
    "version": 3
   },
   "version": "3.8.8-final"
  },
  "orig_nbformat": 2,
  "file_extension": ".py",
  "mimetype": "text/x-python",
  "name": "python",
  "npconvert_exporter": "python",
  "pygments_lexer": "ipython3",
  "version": 3,
  "kernelspec": {
   "name": "python36364bitsurajvirtualenv6469fec47abd440da80bc015e1c93a77",
   "display_name": "Python 3.6.3 64-bit ('suraj': virtualenv)"
  }
 },
 "cells": [
  {
   "cell_type": "code",
   "execution_count": 1,
   "metadata": {},
   "outputs": [],
   "source": [
    "import nltk\n",
    "from nltk.stem import WordNetLemmatizer\n",
    "lemmatizer = WordNetLemmatizer()\n",
    "import pickle\n",
    "import numpy as np\n",
    "from keras.models import load_model\n",
    "model = load_model('chatbot_model.h5')\n",
    "import json\n",
    "import random\n",
    "intents = json.loads(open('intents.json').read())\n",
    "words = pickle.load(open('words.pkl','rb'))\n",
    "classes = pickle.load(open('classes.pkl','rb'))"
   ]
  },
  {
   "cell_type": "code",
   "execution_count": 8,
   "metadata": {},
   "outputs": [
    {
     "output_type": "execute_result",
     "data": {
      "text/plain": "['adverse_drug',\n 'blood_pressure',\n 'blood_pressure_search',\n 'goodbye',\n 'greeting',\n 'hospital_search',\n 'options',\n 'pharmacy_search',\n 'thanks']"
     },
     "metadata": {},
     "execution_count": 8
    }
   ],
   "source": [
    "classes"
   ]
  },
  {
   "cell_type": "code",
   "execution_count": 9,
   "metadata": {},
   "outputs": [
    {
     "output_type": "execute_result",
     "data": {
      "text/plain": "{'intents': [{'tag': 'greeting',\n   'patterns': ['Hi there',\n    'How are you',\n    'Is anyone there?',\n    'Hey',\n    'Hola',\n    'Hello',\n    'Good day'],\n   'responses': ['Hello, thanks for asking',\n    'Good to see you again',\n    'Hi there, how can I help?'],\n   'context': ['']},\n  {'tag': 'goodbye',\n   'patterns': ['Bye',\n    'See you later',\n    'Goodbye',\n    'Nice chatting to you, bye',\n    'Till next time'],\n   'responses': ['See you!', 'Have a nice day', 'Bye! Come back again soon.'],\n   'context': ['']},\n  {'tag': 'thanks',\n   'patterns': ['Thanks',\n    'Thank you',\n    \"That's helpful\",\n    'Awesome, thanks',\n    'Thanks for helping me'],\n   'responses': ['Happy to help!', 'Any time!', 'My pleasure'],\n   'context': ['']},\n  {'tag': 'noanswer',\n   'patterns': [],\n   'responses': [\"Sorry, can't understand you\",\n    'Please give me more info',\n    'Not sure I understand'],\n   'context': ['']},\n  {'tag': 'options',\n   'patterns': ['How you could help me?',\n    'What you can do?',\n    'What help you provide?',\n    'How you can be helpful?',\n    'What support is offered'],\n   'responses': ['I can guide you through Adverse drug reaction list, Blood pressure tracking, Hospitals and Pharmacies',\n    'Offering support for Adverse drug reaction, Blood pressure, Hospitals and Pharmacies'],\n   'context': ['']},\n  {'tag': 'adverse_drug',\n   'patterns': ['How to check Adverse drug reaction?',\n    'Open adverse drugs module',\n    'Give me a list of drugs causing adverse behavior',\n    'List all drugs suitable for patient with adverse reaction',\n    'Which drugs dont have adverse reaction?'],\n   'responses': ['Navigating to Adverse drug reaction module'],\n   'context': ['']},\n  {'tag': 'blood_pressure',\n   'patterns': ['Open blood pressure module',\n    'Task related to blood pressure',\n    'Blood pressure data entry',\n    'I want to log blood pressure results',\n    'Blood pressure data management'],\n   'responses': ['Navigating to Blood Pressure module'],\n   'context': ['']},\n  {'tag': 'blood_pressure_search',\n   'patterns': ['I want to search for blood pressure result history',\n    'Blood pressure for patient',\n    'Load patient blood pressure result',\n    'Show blood pressure results for patient',\n    'Find blood pressure results by ID'],\n   'responses': ['Please provide Patient ID', 'Patient ID?'],\n   'context': ['search_blood_pressure_by_patient_id']},\n  {'tag': 'search_blood_pressure_by_patient_id',\n   'patterns': [],\n   'responses': ['Loading Blood pressure result for Patient'],\n   'context': ['']},\n  {'tag': 'pharmacy_search',\n   'patterns': ['Find me a pharmacy',\n    'Find pharmacy',\n    'List of pharmacies nearby',\n    'Locate pharmacy',\n    'Search pharmacy'],\n   'responses': ['Please provide pharmacy name'],\n   'context': ['search_pharmacy_by_name']},\n  {'tag': 'search_pharmacy_by_name',\n   'patterns': [],\n   'responses': ['Loading pharmacy details'],\n   'context': ['']},\n  {'tag': 'hospital_search',\n   'patterns': ['Lookup for hospital',\n    'Searching for hospital to transfer patient',\n    'I want to search hospital data',\n    'Hospital lookup for patient',\n    'Looking up hospital details'],\n   'responses': ['Please provide hospital name or location'],\n   'context': ['search_hospital_by_params']},\n  {'tag': 'search_hospital_by_params',\n   'patterns': [],\n   'responses': ['Please provide hospital type'],\n   'context': ['search_hospital_by_type']},\n  {'tag': 'search_hospital_by_type',\n   'patterns': [],\n   'responses': ['Loading hospital details'],\n   'context': ['']}]}"
     },
     "metadata": {},
     "execution_count": 9
    }
   ],
   "source": [
    "intents"
   ]
  },
  {
   "cell_type": "code",
   "execution_count": null,
   "metadata": {},
   "outputs": [],
   "source": []
  },
  {
   "cell_type": "code",
   "execution_count": 2,
   "metadata": {},
   "outputs": [],
   "source": [
    "def clean_up_sentence(sentence):\n",
    "    # tokenize the pattern - split words into array\n",
    "    sentence_words = nltk.word_tokenize(sentence)\n",
    "    # stem each word - create short form for word\n",
    "    sentence_words = [lemmatizer.lemmatize(word.lower()) for word in sentence_words]\n",
    "    return sentence_words\n",
    ""
   ]
  },
  {
   "cell_type": "code",
   "execution_count": 3,
   "metadata": {},
   "outputs": [],
   "source": [
    "# return bag of words array: 0 or 1 for each word in the bag that exists in the sentence\n",
    "def bow(sentence, words, show_details=True):\n",
    "    # tokenize the pattern\n",
    "    sentence_words = clean_up_sentence(sentence)\n",
    "    # bag of words - matrix of N words, vocabulary matrix\n",
    "    bag = [0]*len(words) \n",
    "    for s in sentence_words:\n",
    "        for i,w in enumerate(words):\n",
    "            if w == s: \n",
    "                # assign 1 if current word is in the vocabulary position\n",
    "                bag[i] = 1\n",
    "                if show_details:\n",
    "                    print (\"found in bag: %s\" % w)\n",
    "    return(np.array(bag))\n",
    ""
   ]
  },
  {
   "cell_type": "code",
   "execution_count": 4,
   "metadata": {},
   "outputs": [],
   "source": [
    "def predict_class(sentence, model):\n",
    "    # filter out predictions below a threshold\n",
    "    p = bow(sentence, words,show_details=False)\n",
    "    res = model.predict(np.array([p]))[0]\n",
    "    ERROR_THRESHOLD = 0.25\n",
    "    results = [[i,r] for i,r in enumerate(res) if r>ERROR_THRESHOLD]\n",
    "    # sort by strength of probability\n",
    "    results.sort(key=lambda x: x[1], reverse=True)\n",
    "    return_list = []\n",
    "    for r in results:\n",
    "        return_list.append({\"intent\": classes[r[0]], \"probability\": str(r[1])})\n",
    "    return return_list"
   ]
  },
  {
   "cell_type": "code",
   "execution_count": 5,
   "metadata": {},
   "outputs": [],
   "source": [
    "def getResponse(ints, intents_json):\n",
    "    tag = ints[0]['intent']\n",
    "    list_of_intents = intents_json['intents']\n",
    "    for i in list_of_intents:\n",
    "        if(i['tag']== tag):\n",
    "            result = random.choice(i['responses'])\n",
    "            break\n",
    "    return result\n",
    "    \n",
    "def chatbot_response(text):\n",
    "    ints = predict_class(text, model)\n",
    "    res = getResponse(ints, intents)\n",
    "    return res"
   ]
  },
  {
   "cell_type": "code",
   "execution_count": 6,
   "metadata": {},
   "outputs": [],
   "source": [
    "#Creating GUI with tkinter\n",
    "import tkinter\n",
    "from tkinter import *\n",
    "\n",
    "def send():\n",
    "    msg = EntryBox.get(\"1.0\",'end-1c').strip()\n",
    "    EntryBox.delete(\"0.0\",END)\n",
    "    if msg != '':\n",
    "        ChatLog.config(state=NORMAL)\n",
    "        ChatLog.insert(END, \"You: \" + msg + '\\n\\n')\n",
    "        ChatLog.config(foreground=\"#442265\", font=(\"Verdana\", 12 ))\n",
    "        res = chatbot_response(msg)\n",
    "        ChatLog.insert(END, \"Bot: \" + res + '\\n\\n')\n",
    "        ChatLog.config(state=DISABLED)\n",
    "        ChatLog.yview(END)\n",
    ""
   ]
  },
  {
   "cell_type": "code",
   "execution_count": 10,
   "metadata": {},
   "outputs": [
    {
     "output_type": "stream",
     "name": "stdout",
     "text": "1/1 [==============================] - 0s 26ms/step\n1/1 [==============================] - 0s 19ms/step\n1/1 [==============================] - 0s 21ms/step\n1/1 [==============================] - 0s 19ms/step\n1/1 [==============================] - 0s 19ms/step\n"
    }
   ],
   "source": [
    "base = Tk()\n",
    "base.title(\"Hello\")\n",
    "base.geometry(\"400x500\")\n",
    "base.resizable(width=FALSE, height=FALSE)\n",
    "#Create Chat window\n",
    "ChatLog = Text(base, bd=0, bg=\"white\", height=\"8\", width=\"50\", font=\"Arial\",)\n",
    "ChatLog.config(state=DISABLED)\n",
    "#Bind scrollbar to Chat window\n",
    "scrollbar = Scrollbar(base, command=ChatLog.yview, cursor=\"heart\")\n",
    "ChatLog['yscrollcommand'] = scrollbar.set\n",
    "#Create Button to send message\n",
    "SendButton = Button(base, font=(\"Verdana\",12,'bold'), text=\"Send\", width=\"12\", height=5,\n",
    "                    bd=0, bg=\"#32de97\", activebackground=\"#3c9d9b\",fg='#ffffff',\n",
    "                    command= send )\n",
    "#Create the box to enter message\n",
    "EntryBox = Text(base, bd=0, bg=\"white\",width=\"29\", height=\"5\", font=\"Arial\")\n",
    "#EntryBox.bind(\"<Return>\", send)\n",
    "#Place all components on the screen\n",
    "scrollbar.place(x=376,y=6, height=386)\n",
    "ChatLog.place(x=6,y=6, height=386, width=370)\n",
    "EntryBox.place(x=128, y=401, height=90, width=265)\n",
    "SendButton.place(x=6, y=401, height=90)\n",
    "base.mainloop()"
   ]
  },
  {
   "cell_type": "code",
   "execution_count": null,
   "metadata": {},
   "outputs": [],
   "source": []
  }
 ]
}